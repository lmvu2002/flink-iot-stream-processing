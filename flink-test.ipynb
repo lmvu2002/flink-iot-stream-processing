{
 "cells": [
  {
   "cell_type": "code",
   "execution_count": 1,
   "metadata": {},
   "outputs": [
    {
     "name": "stdout",
     "output_type": "stream",
     "text": [
      "Collecting confluent_kafka\n",
      "  Downloading confluent_kafka-2.6.1-cp311-cp311-win_amd64.whl.metadata (52 kB)\n",
      "     ---------------------------------------- 0.0/52.8 kB ? eta -:--:--\n",
      "     ------- -------------------------------- 10.2/52.8 kB ? eta -:--:--\n",
      "     ----------------------------- -------- 41.0/52.8 kB 487.6 kB/s eta 0:00:01\n",
      "     -------------------------------------- 52.8/52.8 kB 452.3 kB/s eta 0:00:00\n",
      "Downloading confluent_kafka-2.6.1-cp311-cp311-win_amd64.whl (3.9 MB)\n",
      "   ---------------------------------------- 0.0/3.9 MB ? eta -:--:--\n",
      "    --------------------------------------- 0.1/3.9 MB 2.7 MB/s eta 0:00:02\n",
      "   - -------------------------------------- 0.2/3.9 MB 2.1 MB/s eta 0:00:02\n",
      "   --- ------------------------------------ 0.3/3.9 MB 3.0 MB/s eta 0:00:02\n",
      "   ------- -------------------------------- 0.7/3.9 MB 4.7 MB/s eta 0:00:01\n",
      "   --------------- ------------------------ 1.5/3.9 MB 7.0 MB/s eta 0:00:01\n",
      "   -------------------- ------------------- 2.0/3.9 MB 8.4 MB/s eta 0:00:01\n",
      "   -------------------- ------------------- 2.0/3.9 MB 6.8 MB/s eta 0:00:01\n",
      "   -------------------- ------------------- 2.0/3.9 MB 6.8 MB/s eta 0:00:01\n",
      "   --------------------------------- ------ 3.2/3.9 MB 7.9 MB/s eta 0:00:01\n",
      "   ---------------------------------------  3.9/3.9 MB 9.5 MB/s eta 0:00:01\n",
      "   ---------------------------------------- 3.9/3.9 MB 8.6 MB/s eta 0:00:00\n",
      "Installing collected packages: confluent_kafka\n",
      "Successfully installed confluent_kafka-2.6.1\n"
     ]
    },
    {
     "name": "stderr",
     "output_type": "stream",
     "text": [
      "\n",
      "[notice] A new release of pip is available: 24.0 -> 24.3.1\n",
      "[notice] To update, run: C:\\Users\\vulm4\\AppData\\Local\\Microsoft\\WindowsApps\\PythonSoftwareFoundation.Python.3.11_qbz5n2kfra8p0\\python.exe -m pip install --upgrade pip\n"
     ]
    }
   ],
   "source": [
    "!pip install confluent_kafka"
   ]
  },
  {
   "cell_type": "code",
   "execution_count": 1,
   "metadata": {},
   "outputs": [
    {
     "name": "stdout",
     "output_type": "stream",
     "text": [
      "Python 3.11.9\n"
     ]
    }
   ],
   "source": [
    "!python --version"
   ]
  },
  {
   "cell_type": "code",
   "execution_count": 1,
   "metadata": {},
   "outputs": [],
   "source": [
    "from confluent_kafka import Producer\n",
    "\n",
    "\n",
    "\n",
    "import json\n",
    "import time"
   ]
  },
  {
   "cell_type": "code",
   "execution_count": 2,
   "metadata": {},
   "outputs": [],
   "source": [
    "producer = Producer({'bootstrap.servers': 'localhost:9093'})"
   ]
  },
  {
   "cell_type": "code",
   "execution_count": 3,
   "metadata": {},
   "outputs": [],
   "source": [
    "# Callback to log delivery status\n",
    "def delivery_report(err, msg):\n",
    "    if err:\n",
    "        print(f\"Delivery failed: {err}\")\n",
    "    else:\n",
    "        print(f\"Message delivered to {msg.topic()} [{msg.partition()}]\")"
   ]
  },
  {
   "cell_type": "code",
   "execution_count": 5,
   "metadata": {},
   "outputs": [
    {
     "name": "stdout",
     "output_type": "stream",
     "text": [
      "Sent: {'id': 0, 'value': 0}\n",
      "Sent: {'id': 1, 'value': 2}\n",
      "Sent: {'id': 2, 'value': 4}\n",
      "Sent: {'id': 3, 'value': 6}\n",
      "Sent: {'id': 4, 'value': 8}\n",
      "Sent: {'id': 5, 'value': 10}\n",
      "Sent: {'id': 6, 'value': 12}\n",
      "Sent: {'id': 7, 'value': 14}\n",
      "Sent: {'id': 8, 'value': 16}\n",
      "Sent: {'id': 9, 'value': 18}\n",
      "Sent: {'id': 10, 'value': 20}\n",
      "Sent: {'id': 11, 'value': 22}\n",
      "Sent: {'id': 12, 'value': 24}\n",
      "Sent: {'id': 13, 'value': 26}\n",
      "Sent: {'id': 14, 'value': 28}\n",
      "Sent: {'id': 15, 'value': 30}\n",
      "Sent: {'id': 16, 'value': 32}\n",
      "Sent: {'id': 17, 'value': 34}\n",
      "Sent: {'id': 18, 'value': 36}\n",
      "Sent: {'id': 19, 'value': 38}\n",
      "Sent: {'id': 20, 'value': 40}\n",
      "Sent: {'id': 21, 'value': 42}\n",
      "Sent: {'id': 22, 'value': 44}\n",
      "Sent: {'id': 23, 'value': 46}\n",
      "Sent: {'id': 24, 'value': 48}\n",
      "Sent: {'id': 25, 'value': 50}\n",
      "Sent: {'id': 26, 'value': 52}\n",
      "Sent: {'id': 27, 'value': 54}\n",
      "Sent: {'id': 28, 'value': 56}\n",
      "Sent: {'id': 29, 'value': 58}\n",
      "Sent: {'id': 30, 'value': 60}\n",
      "Sent: {'id': 31, 'value': 62}\n",
      "Sent: {'id': 32, 'value': 64}\n",
      "Sent: {'id': 33, 'value': 66}\n",
      "Sent: {'id': 34, 'value': 68}\n",
      "Sent: {'id': 35, 'value': 70}\n",
      "Sent: {'id': 36, 'value': 72}\n",
      "Sent: {'id': 37, 'value': 74}\n",
      "Sent: {'id': 38, 'value': 76}\n",
      "Sent: {'id': 39, 'value': 78}\n",
      "Sent: {'id': 40, 'value': 80}\n",
      "Sent: {'id': 41, 'value': 82}\n",
      "Sent: {'id': 42, 'value': 84}\n",
      "Sent: {'id': 43, 'value': 86}\n",
      "Sent: {'id': 44, 'value': 88}\n",
      "Sent: {'id': 45, 'value': 90}\n",
      "Sent: {'id': 46, 'value': 92}\n",
      "Sent: {'id': 47, 'value': 94}\n",
      "Sent: {'id': 48, 'value': 96}\n",
      "Sent: {'id': 49, 'value': 98}\n",
      "Sent: {'id': 50, 'value': 100}\n",
      "Sent: {'id': 51, 'value': 102}\n",
      "Sent: {'id': 52, 'value': 104}\n",
      "Sent: {'id': 53, 'value': 106}\n",
      "Sent: {'id': 54, 'value': 108}\n",
      "Sent: {'id': 55, 'value': 110}\n",
      "Sent: {'id': 56, 'value': 112}\n",
      "Sent: {'id': 57, 'value': 114}\n",
      "Sent: {'id': 58, 'value': 116}\n",
      "Sent: {'id': 59, 'value': 118}\n",
      "Sent: {'id': 60, 'value': 120}\n",
      "Sent: {'id': 61, 'value': 122}\n",
      "Sent: {'id': 62, 'value': 124}\n",
      "Sent: {'id': 63, 'value': 126}\n",
      "Sent: {'id': 64, 'value': 128}\n",
      "Sent: {'id': 65, 'value': 130}\n",
      "Sent: {'id': 66, 'value': 132}\n",
      "Sent: {'id': 67, 'value': 134}\n",
      "Sent: {'id': 68, 'value': 136}\n",
      "Sent: {'id': 69, 'value': 138}\n",
      "Sent: {'id': 70, 'value': 140}\n",
      "Sent: {'id': 71, 'value': 142}\n"
     ]
    },
    {
     "ename": "KeyboardInterrupt",
     "evalue": "",
     "output_type": "error",
     "traceback": [
      "\u001b[1;31m---------------------------------------------------------------------------\u001b[0m",
      "\u001b[1;31mKeyboardInterrupt\u001b[0m                         Traceback (most recent call last)",
      "Cell \u001b[1;32mIn[5], line 5\u001b[0m\n\u001b[0;32m      3\u001b[0m producer\u001b[38;5;241m.\u001b[39mproduce(\u001b[38;5;124m'\u001b[39m\u001b[38;5;124mnew-topic2\u001b[39m\u001b[38;5;124m'\u001b[39m,key\u001b[38;5;241m=\u001b[39m\u001b[38;5;28mstr\u001b[39m(i), value\u001b[38;5;241m=\u001b[39m\u001b[38;5;28mstr\u001b[39m(data), callback\u001b[38;5;241m=\u001b[39mdelivery_report)\n\u001b[0;32m      4\u001b[0m \u001b[38;5;28mprint\u001b[39m(\u001b[38;5;124mf\u001b[39m\u001b[38;5;124m\"\u001b[39m\u001b[38;5;124mSent: \u001b[39m\u001b[38;5;132;01m{\u001b[39;00mdata\u001b[38;5;132;01m}\u001b[39;00m\u001b[38;5;124m\"\u001b[39m)\n\u001b[1;32m----> 5\u001b[0m time\u001b[38;5;241m.\u001b[39msleep(\u001b[38;5;241m1\u001b[39m)\n",
      "\u001b[1;31mKeyboardInterrupt\u001b[0m: "
     ]
    }
   ],
   "source": [
    "for i in range(100):\n",
    "    data = {'id': i, 'value': i * 2}\n",
    "    producer.produce('new-topic2',key=str(i), value=str(data), callback=delivery_report)\n",
    "    print(f\"Sent: {data}\")\n",
    "    time.sleep(1)"
   ]
  }
 ],
 "metadata": {
  "kernelspec": {
   "display_name": "Python 3",
   "language": "python",
   "name": "python3"
  },
  "language_info": {
   "codemirror_mode": {
    "name": "ipython",
    "version": 3
   },
   "file_extension": ".py",
   "mimetype": "text/x-python",
   "name": "python",
   "nbconvert_exporter": "python",
   "pygments_lexer": "ipython3",
   "version": "3.11.9"
  }
 },
 "nbformat": 4,
 "nbformat_minor": 2
}
